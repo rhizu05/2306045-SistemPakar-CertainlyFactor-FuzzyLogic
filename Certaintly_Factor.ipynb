{
  "nbformat": 4,
  "nbformat_minor": 0,
  "metadata": {
    "colab": {
      "provenance": []
    },
    "kernelspec": {
      "name": "python3",
      "display_name": "Python 3"
    },
    "language_info": {
      "name": "python"
    }
  },
  "cells": [
    {
      "cell_type": "markdown",
      "source": [
        "# 1. Ubah nilai CF gejala dan amati perubahan hasil\n",
        "\n",
        "Misalnya mengubah \"demam\": 0.2 dari sebelumnya 0.7, dan jalankan kembali fungsi hitung_cf."
      ],
      "metadata": {
        "id": "KcAWBQt7Kasx"
      }
    },
    {
      "cell_type": "code",
      "execution_count": 8,
      "metadata": {
        "colab": {
          "base_uri": "https://localhost:8080/"
        },
        "id": "fRW_vhaWJ6IG",
        "outputId": "3ab7da36-8c34-4266-fa6e-f59067d99eec"
      },
      "outputs": [
        {
          "output_type": "stream",
          "name": "stdout",
          "text": [
            "CF diagnosis Flu setelah demam jadi 0.2: 0.65\n"
          ]
        }
      ],
      "source": [
        "# Pengetahuan pakar tetap\n",
        "pengetahuan = {\n",
        "    \"flu\": {\n",
        "        \"demam\": 0.8,\n",
        "        \"batuk\": 0.7,\n",
        "        \"sakit_tenggorokan\": 0.6\n",
        "    }\n",
        "}\n",
        "\n",
        "# Gejala user (demam diubah menjadi 0.2)\n",
        "gejala_user = {\n",
        "    \"demam\": 0.2,\n",
        "    \"batuk\": 0.5,\n",
        "    \"sakit_tenggorokan\": 0.6\n",
        "}\n",
        "\n",
        "# Fungsi perhitungan CF\n",
        "def hitung_cf(gejala_user, pengetahuan_pakar):\n",
        "    cf_total = 0\n",
        "    first = True\n",
        "    for gejala, cf_user in gejala_user.items():\n",
        "        if gejala in pengetahuan_pakar:\n",
        "            cf_pakar = pengetahuan_pakar[gejala]\n",
        "            cf = cf_user * cf_pakar\n",
        "            if first:\n",
        "                cf_total = cf\n",
        "                first = False\n",
        "            else:\n",
        "                cf_total = cf_total + cf * (1 - cf_total)\n",
        "    return cf_total\n",
        "\n",
        "# Hasil CF Flu\n",
        "cf_flu = hitung_cf(gejala_user, pengetahuan[\"flu\"])\n",
        "print(f\"CF diagnosis Flu setelah demam jadi 0.2: {cf_flu:.2f}\")\n"
      ]
    },
    {
      "cell_type": "markdown",
      "source": [
        "#2. Tambahkan 5 gejala baru beserta nilai CF"
      ],
      "metadata": {
        "id": "aU4iSm2iK3Kc"
      }
    },
    {
      "cell_type": "code",
      "source": [
        "# Tambahkan 5 gejala baru ke pengetahuan dan gejala_user\n",
        "pengetahuan[\"flu\"].update({\n",
        "    \"pilek\": 0.6,\n",
        "    \"lemas\": 0.5,\n",
        "    \"sakit_kepala\": 0.7,\n",
        "    \"menggigil\": 0.6,\n",
        "    \"mata_berair\": 0.4\n",
        "})\n",
        "\n",
        "gejala_user.update({\n",
        "    \"pilek\": 0.8,\n",
        "    \"lemas\": 0.6,\n",
        "    \"sakit_kepala\": 0.5,\n",
        "    \"menggigil\": 0.7,\n",
        "    \"mata_berair\": 0.6\n",
        "})\n",
        "\n",
        "# Hitung kembali CF\n",
        "cf_flu = hitung_cf(gejala_user, pengetahuan[\"flu\"])\n",
        "print(f\"CF diagnosis Flu dengan 5 gejala tambahan: {cf_flu:.2f}\")"
      ],
      "metadata": {
        "colab": {
          "base_uri": "https://localhost:8080/"
        },
        "id": "W6jgVdHnLhuY",
        "outputId": "ebba2d49-467a-41f9-caa2-005a9e69f1a1"
      },
      "execution_count": 7,
      "outputs": [
        {
          "output_type": "stream",
          "name": "stdout",
          "text": [
            "CF diagnosis Flu dengan 5 gejala tambahan: 0.96\n"
          ]
        }
      ]
    },
    {
      "cell_type": "markdown",
      "source": [
        "#3. Jika \"demam\" diubah jadi 0.2, bagaimana hasilnya?\n",
        "Hasilnya menjadi lebih rendah dibanding sebelumnya karena CF adalah kombinasi dari kepercayaan user dan pengetahuan pakar. Jika salah satu lebih kecil, maka nilai akhirnya juga lebih kecil.\n",
        "\n",
        "Perhitungan per gejala (contoh):\n",
        "```\n",
        "CF(demam) = 0.2 × 0.8 = 0.16\n",
        "CF(batuk) = 0.5 × 0.7 = 0.35\n",
        "CF(sakit_tenggorokan) = 0.6 × 0.6 = 0.36\n",
        "```\n",
        "Gabungan dihitung sebagai:\n",
        "```\n",
        "cf1 = 0.16\n",
        "cf2 = 0.16 + 0.35*(1 - 0.16) = 0.16 + 0.294 = 0.454\n",
        "cf3 = 0.454 + 0.36*(1 - 0.454) ≈ 0.454 + 0.196 = 0.65\n",
        "```"
      ],
      "metadata": {
        "id": "3DQcBua-Mlow"
      }
    },
    {
      "cell_type": "markdown",
      "source": [
        "#4. Jelaskan bagaimana hasil perubahannya dalam bentuk komentar atau teks cell\n",
        "Penjelasan:\n",
        "\n",
        "- Semula, \"demam\" memiliki nilai CF user = 0.7. Setelah diubah menjadi 0.2, nilai CF akhir menjadi lebih kecil.\n",
        "- Hal ini terjadi karena perhitungan CF adalah hasil dari kombinasi CF user * CF pakar, lalu digabungkan secara iteratif.\n",
        "- Semakin kecil CF dari satu gejala, maka kontribusinya terhadap hasil total akan berkurang.\n",
        "- Dengan menambahkan 5 gejala baru yang relevan, CF akhir meningkat karena lebih banyak gejala yang menguatkan diagnosis flu."
      ],
      "metadata": {
        "id": "fU9-Q8_zMxdr"
      }
    }
  ]
}